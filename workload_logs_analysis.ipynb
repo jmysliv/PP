{
 "cells": [
  {
   "cell_type": "markdown",
   "id": "1cbec04d",
   "metadata": {},
   "source": [
    "Reading Standard Workload File"
   ]
  },
  {
   "cell_type": "code",
   "execution_count": 22,
   "id": "6701ffad",
   "metadata": {},
   "outputs": [
    {
     "name": "stdout",
     "output_type": "stream",
     "text": [
      "[[1, 0, 4, 14400, 100, -1, -1, 100, 14400, -1, 1, 1, 1, -1, 1, 1, -1, -1], [2, 37, 0, 14400, 100, -1, -1, 100, 14400, -1, 1, 1, 1, -1, 1, 1, -1, -1], [3, 76068, 9, 45, 20, -1, -1, 20, 3600, -1, 1, 2, 2, -1, 1, 1, -1, -1], [4, 108213, 16386, 154, 1, -1, -1, 1, 3600, -1, 1, 3, 3, -1, 1, 1, -1, -1], [5, 108300, 16977, 50, 1, -1, -1, 1, 3600, -1, 1, 3, 3, -1, 1, 1, -1, -1], [6, 108336, 16596, 1112, 1, -1, -1, 1, 3600, -1, 1, 3, 3, -1, 1, 1, -1, -1], [7, 113136, 11796, 176777, 1000, -1, -1, 1000, 259200, -1, 1, 4, 4, -1, 1, 1, -1, -1], [8, 125387, 206, 45, 2560, -1, -1, 2560, 172800, -1, 1, 3, 3, -1, 1, 1, -1, -1], [9, 125537, 112, 353, 10000, -1, -1, 10000, 172800, -1, 1, 3, 3, -1, 1, 1, -1, -1], [10, 126051, 197, 42, 2560, -1, -1, 2560, 172800, -1, 1, 3, 3, -1, 1, 1, -1, -1]]\n",
      "114355\n"
     ]
    }
   ],
   "source": [
    "with open('test.txt', 'r+', encoding='utf-8') as f:\n",
    "    data = f.read().splitlines(True)\n",
    "    \n",
    "data = [ line.replace('\\n', '').split('\\t') for line in data if not line.startswith(';') and len(line)>3]\n",
    "data = [[int(value) for value in line] for line in data]\n",
    "print(data[:10])\n",
    "print(len(data))"
   ]
  },
  {
   "cell_type": "markdown",
   "id": "6e68b81c",
   "metadata": {},
   "source": [
    "Converting it to pandas dataframe, removing not needed columns"
   ]
  },
  {
   "cell_type": "code",
   "execution_count": 50,
   "id": "20c2cc88",
   "metadata": {},
   "outputs": [
    {
     "name": "stdout",
     "output_type": "stream",
     "text": [
      "(114355, 18)\n",
      "(114355, 8)\n",
      "8\n",
      "   submit time  wait time  run time  proc used  requested number of proc  \\\n",
      "0            0          4     14400        100                       100   \n",
      "1           37          0     14400        100                       100   \n",
      "2        76068          9        45         20                        20   \n",
      "3       108213      16386       154          1                         1   \n",
      "4       108300      16977        50          1                         1   \n",
      "\n",
      "   requested time  requested memory  user id  \n",
      "0           14400                -1        1  \n",
      "1           14400                -1        1  \n",
      "2            3600                -1        2  \n",
      "3            3600                -1        3  \n",
      "4            3600                -1        3  \n"
     ]
    }
   ],
   "source": [
    "import numpy as np\n",
    "import pandas as pd\n",
    "\n",
    "np_data = np.array(data, dtype=int)\n",
    "print(np_data.shape)\n",
    "\n",
    "labels = ['submit time', 'wait time', 'run time', 'proc used', 'requested number of proc', 'requested time', 'requested memory', 'user id']\n",
    "np_data = np.delete(np_data, [0, 5, 6, 10, 12, 13, 14, 15, 16, 17], 1)\n",
    "print(np_data.shape)\n",
    "print(len(labels))\n",
    "df = pd.DataFrame(np_data, columns=labels)\n",
    "print(df.head())"
   ]
  },
  {
   "cell_type": "markdown",
   "id": "b488550a",
   "metadata": {},
   "source": [
    "Grouping by user id"
   ]
  },
  {
   "cell_type": "code",
   "execution_count": 51,
   "id": "b9aaacdf",
   "metadata": {},
   "outputs": [
    {
     "name": "stdout",
     "output_type": "stream",
     "text": [
      "            wait time      run time    proc used  requested number of proc  \\\n",
      "user id                                                                      \n",
      "1         6654.854723  51115.181725   812.733573                812.733573   \n",
      "2        13290.120127  12937.380801    85.509679                 85.509679   \n",
      "3         6494.346939  44984.360544  1410.204082               1410.204082   \n",
      "4         1788.579587   7938.150668   502.594168                502.594168   \n",
      "5         6625.614035    634.929825     3.666667                  3.666667   \n",
      "\n",
      "         requested time  requested memory   count  \n",
      "user id                                            \n",
      "1         188325.739220      11013.887577  1948.0  \n",
      "2          28265.314240     341399.175020  3771.0  \n",
      "3         141575.510204     291930.986395   147.0  \n",
      "4          47142.211422         -1.000000   823.0  \n",
      "5           2157.894737         -1.000000    57.0  \n"
     ]
    }
   ],
   "source": [
    "max_submit_time = df.max()['submit time']\n",
    "df.pop('submit time')\n",
    "df['count'] = df.groupby('user id')['user id'].transform('count')\n",
    "grouped = df.groupby('user id').mean()\n",
    "print(grouped.head())"
   ]
  },
  {
   "cell_type": "markdown",
   "id": "adec4d6d",
   "metadata": {},
   "source": [
    "Visualizing data"
   ]
  },
  {
   "cell_type": "code",
   "execution_count": 59,
   "id": "cba4e438",
   "metadata": {},
   "outputs": [],
   "source": [
    "import matplotlib.pyplot as plt\n",
    "def plot_2d_scatter(X):\n",
    "    fig, plot = plt.subplots()\n",
    "    fig.set_size_inches(12, 12)\n",
    "    plt.prism()\n",
    "\n",
    "   \n",
    "\n",
    "    dim0 = X[:, 0]\n",
    "    dim1 = X[:, 1]\n",
    "    label = \"test\"\n",
    "    plot.scatter(dim0, dim1, label=label)\n",
    "    \n",
    "    plot.set_xticks(())\n",
    "    plot.set_yticks(())\n",
    "\n",
    "    plt.title(\"Workload logs\")\n",
    "    plt.tight_layout()\n",
    "    plt.legend()\n",
    "    plt.show()"
   ]
  },
  {
   "cell_type": "code",
   "execution_count": 62,
   "id": "cdd33609",
   "metadata": {},
   "outputs": [
    {
     "name": "stderr",
     "output_type": "stream",
     "text": [
      "/Users/jakubmysliwiec/.asdf/installs/python/3.10.2/lib/python3.10/site-packages/sklearn/manifold/_t_sne.py:780: FutureWarning: The default initialization in TSNE will change from 'random' to 'pca' in 1.2.\n",
      "  warnings.warn(\n",
      "/Users/jakubmysliwiec/.asdf/installs/python/3.10.2/lib/python3.10/site-packages/sklearn/manifold/_t_sne.py:790: FutureWarning: The default learning rate in TSNE will change from 200.0 to 'auto' in 1.2.\n",
      "  warnings.warn(\n"
     ]
    },
    {
     "data": {
      "text/plain": [
       "(166, 2)"
      ]
     },
     "execution_count": 62,
     "metadata": {},
     "output_type": "execute_result"
    }
   ],
   "source": [
    "from sklearn.manifold import TSNE\n",
    "\n",
    "user_profiles = grouped.to_numpy()\n",
    "user_profiles_tsne = TSNE(n_components=2, metric='euclidean', perplexity=30).fit_transform(user_profiles)\n",
    "\n",
    "user_profiles_tsne.shape"
   ]
  },
  {
   "cell_type": "code",
   "execution_count": 63,
   "id": "c0da7a13",
   "metadata": {},
   "outputs": [
    {
     "data": {
      "image/png": "[encoded data removed]",
      "text/plain": [
       "<Figure size 864x864 with 1 Axes>"
      ]
     },
     "metadata": {},
     "output_type": "display_data"
    }
   ],
   "source": [
    "plot_2d_scatter(user_profiles_tsne)"
   ]
  },
  {
   "cell_type": "code",
   "execution_count": null,
   "id": "ea54e88e",
   "metadata": {},
   "outputs": [],
   "source": []
  }
 ],
 "metadata": {
  "kernelspec": {
   "display_name": "Python 3 (ipykernel)",
   "language": "python",
   "name": "python3"
  },
  "language_info": {
   "codemirror_mode": {
    "name": "ipython",
    "version": 3
   },
   "file_extension": ".py",
   "mimetype": "text/x-python",
   "name": "python",
   "nbconvert_exporter": "python",
   "pygments_lexer": "ipython3",
   "version": "3.10.2"
  }
 },
 "nbformat": 4,
 "nbformat_minor": 5
}

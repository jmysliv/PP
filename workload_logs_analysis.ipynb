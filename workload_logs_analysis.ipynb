{
 "cells": [
  {
   "cell_type": "markdown",
   "id": "1cbec04d",
   "metadata": {},
   "source": [
    "Reading Standard Workload File"
   ]
  },
  {
   "cell_type": "code",
   "execution_count": 1,
   "id": "6701ffad",
   "metadata": {},
   "outputs": [
    {
     "name": "stdout",
     "output_type": "stream",
     "text": [
      "[[1.0, 0.0, 3.0, 169.0, 1.0, 161.0, 1048576.0, -1.0, -1.0, -1.0, 1.0, 1.0, 1.0, 1.0, -1.0, -1.0, -1.0, -1.0], [2.0, 0.0, 7.0, 56212.0, 1.0, 49351.0, 1048576.0, -1.0, -1.0, -1.0, 1.0, 2.0, 1.0, 2.0, -1.0, -1.0, -1.0, -1.0], [3.0, 1.0, 43.0, 2.0, 1.0, -1.0, 16777216.0, -1.0, -1.0, -1.0, 1.0, 3.0, 1.0, 3.0, -1.0, -1.0, -1.0, -1.0], [4.0, 1.0, 1967.0, 116.0, 1.0, 41.0, 4194304.0, -1.0, -1.0, -1.0, 1.0, 4.0, 2.0, 4.0, -1.0, -1.0, -1.0, -1.0], [5.0, 3.0, 9.0, 0.0, 1.0, -1.0, 2097152.0, -1.0, -1.0, -1.0, 0.0, 5.0, 1.0, 5.0, -1.0, -1.0, -1.0, -1.0], [6.0, 3.0, 11.0, 3.0, 1.0, 2.0, 1048576.0, -1.0, -1.0, -1.0, 1.0, 6.0, 1.0, 6.0, -1.0, -1.0, -1.0, -1.0], [7.0, 3.0, 9.0, 22.0, 1.0, 2.0, 1048576.0, -1.0, -1.0, -1.0, 1.0, 6.0, 1.0, 6.0, -1.0, -1.0, -1.0, -1.0], [8.0, 3.0, 8.0, 191.0, 1.0, 184.0, 1048576.0, -1.0, -1.0, -1.0, 1.0, 1.0, 1.0, 1.0, -1.0, -1.0, -1.0, -1.0], [9.0, 4.0, 18.0, 3.0, 1.0, 2.0, 1048576.0, -1.0, -1.0, -1.0, 1.0, 6.0, 1.0, 6.0, -1.0, -1.0, -1.0, -1.0], [10.0, 4.0, 18.0, 11.0, 1.0, 2.0, 1048576.0, -1.0, -1.0, -1.0, 1.0, 6.0, 1.0, 6.0, -1.0, -1.0, -1.0, -1.0]]\n",
      "13085792\n"
     ]
    }
   ],
   "source": [
    "FEATURES_NUMBER = 18\n",
    "with open('test2.txt', 'r+', encoding='utf-8') as f:\n",
    "    data = f.read().splitlines(True)\n",
    "    \n",
    "data = [ line.replace('\\n', '').replace('\\t', ' ').split() for line in data if not line.startswith(';')]\n",
    "data = [[float(value) for value in line] for line in data if len(line) == FEATURES_NUMBER]\n",
    "print(data[:10])\n",
    "print(len(data))"
   ]
  },
  {
   "cell_type": "markdown",
   "id": "6e68b81c",
   "metadata": {},
   "source": [
    "Converting it to pandas dataframe, removing not needed columns"
   ]
  },
  {
   "cell_type": "code",
   "execution_count": 2,
   "id": "20c2cc88",
   "metadata": {},
   "outputs": [
    {
     "name": "stdout",
     "output_type": "stream",
     "text": [
      "(13085792, 18)\n",
      "(13085792, 6)\n",
      "6\n",
      "   submit time  wait time  run time  cpu used  memory used  user id\n",
      "0            0          3       169       161      1048576        1\n",
      "1            0          7     56212     49351      1048576        2\n",
      "2            1         43         2        -1     16777216        3\n",
      "3            1       1967       116        41      4194304        4\n",
      "4            3          9         0        -1      2097152        5\n"
     ]
    }
   ],
   "source": [
    "import numpy as np\n",
    "import pandas as pd\n",
    "\n",
    "np_data = np.array(data, dtype=int)\n",
    "print(np_data.shape)\n",
    "\n",
    "labels = ['submit time', 'wait time', 'run time', 'cpu used', 'memory used','user id']\n",
    "np_data = np.delete(np_data, [0, 4, 7, 8, 9, 10, 12, 13, 14, 15, 16, 17], 1)\n",
    "print(np_data.shape)\n",
    "print(len(labels))\n",
    "df = pd.DataFrame(np_data, columns=labels)\n",
    "print(df.head())"
   ]
  },
  {
   "cell_type": "code",
   "execution_count": 31,
   "id": "6a48dd3b",
   "metadata": {},
   "outputs": [
    {
     "data": {
      "text/plain": [
       "array([4.5, 9. ])"
      ]
     },
     "execution_count": 31,
     "metadata": {},
     "output_type": "execute_result"
    }
   ],
   "source": [
    "a = []\n",
    "for i in range(10):\n",
    "    a.append([i, i*2])\n",
    "a_np = np.array(a)\n",
    "np.mean(a_np, axis=0)"
   ]
  },
  {
   "cell_type": "markdown",
   "id": "b488550a",
   "metadata": {},
   "source": [
    "Grouping by user id"
   ]
  },
  {
   "cell_type": "code",
   "execution_count": 17,
   "id": "b9aaacdf",
   "metadata": {},
   "outputs": [
    {
     "data": {
      "text/plain": [
       "user id\n",
       "1       8.560553e+05\n",
       "2       1.144584e+06\n",
       "3       1.295007e+06\n",
       "4       1.259699e+06\n",
       "5       2.705729e+05\n",
       "            ...     \n",
       "1610    2.580741e+06\n",
       "1611    2.585348e+06\n",
       "1612    2.584119e+06\n",
       "1613    2.587790e+06\n",
       "1614    2.590314e+06\n",
       "Name: submit time, Length: 1614, dtype: float64"
      ]
     },
     "execution_count": 17,
     "metadata": {},
     "output_type": "execute_result"
    }
   ],
   "source": [
    "grouped = df.groupby('user id').mean()\n",
    "grouped['count'] = df.groupby('user id')['user id'].transform('count')\n",
    "grouped.pop('wait time')\n",
    "grouped.pop('submit time')"
   ]
  },
  {
   "cell_type": "markdown",
   "id": "07fb9160",
   "metadata": {},
   "source": [
    "Data preprocessing"
   ]
  },
  {
   "cell_type": "code",
   "execution_count": 18,
   "id": "19ca910c",
   "metadata": {},
   "outputs": [
    {
     "data": {
      "text/plain": [
       "array([[-0.245991  , -0.19995745, -0.68999861, -0.39984326],\n",
       "       [ 0.45924206,  0.3534707 , -0.6894509 , -0.44897658],\n",
       "       [-0.2418466 , -0.20157523,  0.96727918, -0.45839145],\n",
       "       [-0.22069321, -0.18697623, -0.53344762, -0.40186006],\n",
       "       [-0.18554036, -0.16900904, -0.56886901, -0.45755033],\n",
       "       [-0.25131051, -0.20179532, -0.67922728, -0.45755033],\n",
       "       [-0.15352898, -0.11008446, -0.65442032, -0.44972858],\n",
       "       [-0.08937969, -0.0531625 , -0.60248623, -0.45755033],\n",
       "       [ 3.0588201 ,  2.01566188, -0.36185362, -0.45755033],\n",
       "       [-0.12090801, -0.08213179, -0.37776397, -0.45839145]])"
      ]
     },
     "execution_count": 18,
     "metadata": {},
     "output_type": "execute_result"
    }
   ],
   "source": [
    "from sklearn import preprocessing\n",
    "user_profiles = grouped.to_numpy()\n",
    "scaler = preprocessing.StandardScaler().fit(user_profiles)\n",
    "user_profiles = scaler.transform(user_profiles)\n",
    "user_profiles[:10]"
   ]
  },
  {
   "cell_type": "markdown",
   "id": "adec4d6d",
   "metadata": {},
   "source": [
    "Visualizing data"
   ]
  },
  {
   "cell_type": "code",
   "execution_count": 19,
   "id": "cba4e438",
   "metadata": {},
   "outputs": [],
   "source": [
    "import matplotlib.pyplot as plt\n",
    "def plot_2d_scatter(X, y):\n",
    "    fig, plot = plt.subplots()\n",
    "    fig.set_size_inches(12, 12)\n",
    "    plt.prism()\n",
    "    \n",
    "    for i in np.unique(y):\n",
    "        cluster = (y == i)\n",
    "\n",
    "        dim0 = X[cluster, 0]\n",
    "        dim1 = X[cluster, 1]\n",
    "        label = f\"Cluster {i}\"\n",
    "        plot.scatter(dim0, dim1, label=label)\n",
    "    \n",
    "    plot.set_xticks(())\n",
    "    plot.set_yticks(())\n",
    "\n",
    "    plt.title(\"Workload logs\")\n",
    "    plt.tight_layout()\n",
    "    plt.legend()\n",
    "    plt.show()"
   ]
  },
  {
   "cell_type": "code",
   "execution_count": 20,
   "id": "ea54e88e",
   "metadata": {},
   "outputs": [],
   "source": [
    "from sklearn.cluster import KMeans\n",
    "from sklearn.manifold import TSNE\n",
    "\n",
    "def visualize_clustered_data(data):\n",
    "    kmeans = KMeans(n_clusters=3).fit(data)\n",
    "    tsne = TSNE(n_components=2, metric='euclidean', perplexity=50).fit_transform(data)\n",
    "    plot_2d_scatter(tsne, kmeans.labels_)\n",
    "    return kmeans.labels_"
   ]
  },
  {
   "cell_type": "code",
   "execution_count": 21,
   "id": "683573fb",
   "metadata": {},
   "outputs": [
    {
     "name": "stderr",
     "output_type": "stream",
     "text": [
      "/Users/jakubmysliwiec/.asdf/installs/python/3.10.2/lib/python3.10/site-packages/sklearn/manifold/_t_sne.py:780: FutureWarning: The default initialization in TSNE will change from 'random' to 'pca' in 1.2.\n",
      "  warnings.warn(\n",
      "/Users/jakubmysliwiec/.asdf/installs/python/3.10.2/lib/python3.10/site-packages/sklearn/manifold/_t_sne.py:790: FutureWarning: The default learning rate in TSNE will change from 200.0 to 'auto' in 1.2.\n",
      "  warnings.warn(\n"
     ]
    },
    {
     "data": {
      "image/png": "[encoded data removed]",
      "text/plain": [
       "<Figure size 864x864 with 1 Axes>"
      ]
     },
     "metadata": {},
     "output_type": "display_data"
    }
   ],
   "source": [
    "labels = visualize_clustered_data(user_profiles)"
   ]
  },
  {
   "cell_type": "code",
   "execution_count": 22,
   "id": "9af18c60",
   "metadata": {
    "scrolled": true
   },
   "outputs": [
    {
     "data": {
      "text/html": [
       "<div>\n",
       "<style scoped>\n",
       "    .dataframe tbody tr th:only-of-type {\n",
       "        vertical-align: middle;\n",
       "    }\n",
       "\n",
       "    .dataframe tbody tr th {\n",
       "        vertical-align: top;\n",
       "    }\n",
       "\n",
       "    .dataframe thead th {\n",
       "        text-align: right;\n",
       "    }\n",
       "</style>\n",
       "<table border=\"1\" class=\"dataframe\">\n",
       "  <thead>\n",
       "    <tr style=\"text-align: right;\">\n",
       "      <th></th>\n",
       "      <th>run time</th>\n",
       "      <th>cpu used</th>\n",
       "      <th>memory used</th>\n",
       "      <th>count</th>\n",
       "    </tr>\n",
       "    <tr>\n",
       "      <th>user id</th>\n",
       "      <th></th>\n",
       "      <th></th>\n",
       "      <th></th>\n",
       "      <th></th>\n",
       "    </tr>\n",
       "  </thead>\n",
       "  <tbody>\n",
       "    <tr>\n",
       "      <th>1</th>\n",
       "      <td>429.766585</td>\n",
       "      <td>208.546786</td>\n",
       "      <td>1.048576e+06</td>\n",
       "      <td>47404</td>\n",
       "    </tr>\n",
       "    <tr>\n",
       "      <th>2</th>\n",
       "      <td>38658.537339</td>\n",
       "      <td>30843.334803</td>\n",
       "      <td>1.053774e+06</td>\n",
       "      <td>15977</td>\n",
       "    </tr>\n",
       "    <tr>\n",
       "      <th>3</th>\n",
       "      <td>654.423359</td>\n",
       "      <td>118.995431</td>\n",
       "      <td>1.677761e+07</td>\n",
       "      <td>9955</td>\n",
       "    </tr>\n",
       "    <tr>\n",
       "      <th>4</th>\n",
       "      <td>1801.090909</td>\n",
       "      <td>927.117027</td>\n",
       "      <td>2.534383e+06</td>\n",
       "      <td>46114</td>\n",
       "    </tr>\n",
       "    <tr>\n",
       "      <th>5</th>\n",
       "      <td>3706.631587</td>\n",
       "      <td>1921.683458</td>\n",
       "      <td>2.198203e+06</td>\n",
       "      <td>10493</td>\n",
       "    </tr>\n",
       "    <tr>\n",
       "      <th>...</th>\n",
       "      <td>...</td>\n",
       "      <td>...</td>\n",
       "      <td>...</td>\n",
       "      <td>...</td>\n",
       "    </tr>\n",
       "    <tr>\n",
       "      <th>1608</th>\n",
       "      <td>71.484536</td>\n",
       "      <td>29.340206</td>\n",
       "      <td>9.166932e+06</td>\n",
       "      <td>1501</td>\n",
       "    </tr>\n",
       "    <tr>\n",
       "      <th>1609</th>\n",
       "      <td>10.363636</td>\n",
       "      <td>-0.727273</td>\n",
       "      <td>3.050403e+07</td>\n",
       "      <td>47404</td>\n",
       "    </tr>\n",
       "    <tr>\n",
       "      <th>1612</th>\n",
       "      <td>0.000000</td>\n",
       "      <td>-1.000000</td>\n",
       "      <td>3.355443e+07</td>\n",
       "      <td>1501</td>\n",
       "    </tr>\n",
       "    <tr>\n",
       "      <th>1613</th>\n",
       "      <td>103.500000</td>\n",
       "      <td>75.750000</td>\n",
       "      <td>4.194304e+06</td>\n",
       "      <td>1501</td>\n",
       "    </tr>\n",
       "    <tr>\n",
       "      <th>1614</th>\n",
       "      <td>86.500000</td>\n",
       "      <td>39.500000</td>\n",
       "      <td>4.194304e+06</td>\n",
       "      <td>1501</td>\n",
       "    </tr>\n",
       "  </tbody>\n",
       "</table>\n",
       "<p>1441 rows × 4 columns</p>\n",
       "</div>"
      ],
      "text/plain": [
       "             run time      cpu used   memory used  count\n",
       "user id                                                 \n",
       "1          429.766585    208.546786  1.048576e+06  47404\n",
       "2        38658.537339  30843.334803  1.053774e+06  15977\n",
       "3          654.423359    118.995431  1.677761e+07   9955\n",
       "4         1801.090909    927.117027  2.534383e+06  46114\n",
       "5         3706.631587   1921.683458  2.198203e+06  10493\n",
       "...               ...           ...           ...    ...\n",
       "1608        71.484536     29.340206  9.166932e+06   1501\n",
       "1609        10.363636     -0.727273  3.050403e+07  47404\n",
       "1612         0.000000     -1.000000  3.355443e+07   1501\n",
       "1613       103.500000     75.750000  4.194304e+06   1501\n",
       "1614        86.500000     39.500000  4.194304e+06   1501\n",
       "\n",
       "[1441 rows x 4 columns]"
      ]
     },
     "execution_count": 22,
     "metadata": {},
     "output_type": "execute_result"
    }
   ],
   "source": [
    "grouped[labels == 0]"
   ]
  },
  {
   "cell_type": "code",
   "execution_count": 23,
   "id": "0a952369",
   "metadata": {},
   "outputs": [
    {
     "data": {
      "text/html": [
       "<div>\n",
       "<style scoped>\n",
       "    .dataframe tbody tr th:only-of-type {\n",
       "        vertical-align: middle;\n",
       "    }\n",
       "\n",
       "    .dataframe tbody tr th {\n",
       "        vertical-align: top;\n",
       "    }\n",
       "\n",
       "    .dataframe thead th {\n",
       "        text-align: right;\n",
       "    }\n",
       "</style>\n",
       "<table border=\"1\" class=\"dataframe\">\n",
       "  <thead>\n",
       "    <tr style=\"text-align: right;\">\n",
       "      <th></th>\n",
       "      <th>run time</th>\n",
       "      <th>cpu used</th>\n",
       "      <th>memory used</th>\n",
       "      <th>count</th>\n",
       "    </tr>\n",
       "    <tr>\n",
       "      <th>user id</th>\n",
       "      <th></th>\n",
       "      <th></th>\n",
       "      <th></th>\n",
       "      <th></th>\n",
       "    </tr>\n",
       "  </thead>\n",
       "  <tbody>\n",
       "    <tr>\n",
       "      <th>100</th>\n",
       "      <td>3.187791e+05</td>\n",
       "      <td>2.942063e+05</td>\n",
       "      <td>2.097152e+06</td>\n",
       "      <td>2091</td>\n",
       "    </tr>\n",
       "    <tr>\n",
       "      <th>291</th>\n",
       "      <td>5.071584e+05</td>\n",
       "      <td>1.027000e+05</td>\n",
       "      <td>4.194304e+06</td>\n",
       "      <td>10493</td>\n",
       "    </tr>\n",
       "    <tr>\n",
       "      <th>648</th>\n",
       "      <td>1.024945e+06</td>\n",
       "      <td>1.685586e+06</td>\n",
       "      <td>2.097152e+06</td>\n",
       "      <td>47404</td>\n",
       "    </tr>\n",
       "    <tr>\n",
       "      <th>676</th>\n",
       "      <td>3.490110e+05</td>\n",
       "      <td>1.049758e+05</td>\n",
       "      <td>1.677722e+07</td>\n",
       "      <td>5666</td>\n",
       "    </tr>\n",
       "    <tr>\n",
       "      <th>936</th>\n",
       "      <td>6.828710e+05</td>\n",
       "      <td>4.118980e+05</td>\n",
       "      <td>1.342177e+08</td>\n",
       "      <td>2148005</td>\n",
       "    </tr>\n",
       "    <tr>\n",
       "      <th>981</th>\n",
       "      <td>4.863820e+05</td>\n",
       "      <td>4.905555e+05</td>\n",
       "      <td>1.677722e+07</td>\n",
       "      <td>58550</td>\n",
       "    </tr>\n",
       "    <tr>\n",
       "      <th>985</th>\n",
       "      <td>2.674299e+05</td>\n",
       "      <td>2.618954e+05</td>\n",
       "      <td>2.414902e+06</td>\n",
       "      <td>58550</td>\n",
       "    </tr>\n",
       "    <tr>\n",
       "      <th>1004</th>\n",
       "      <td>7.544450e+05</td>\n",
       "      <td>2.313400e+04</td>\n",
       "      <td>4.194304e+06</td>\n",
       "      <td>58550</td>\n",
       "    </tr>\n",
       "    <tr>\n",
       "      <th>1059</th>\n",
       "      <td>1.928364e+05</td>\n",
       "      <td>2.764582e+05</td>\n",
       "      <td>6.710886e+07</td>\n",
       "      <td>2148005</td>\n",
       "    </tr>\n",
       "    <tr>\n",
       "      <th>1181</th>\n",
       "      <td>3.189590e+05</td>\n",
       "      <td>2.706388e+05</td>\n",
       "      <td>1.677722e+07</td>\n",
       "      <td>219707</td>\n",
       "    </tr>\n",
       "    <tr>\n",
       "      <th>1234</th>\n",
       "      <td>6.143622e+05</td>\n",
       "      <td>5.791346e+05</td>\n",
       "      <td>3.250586e+06</td>\n",
       "      <td>219707</td>\n",
       "    </tr>\n",
       "    <tr>\n",
       "      <th>1308</th>\n",
       "      <td>1.662398e+05</td>\n",
       "      <td>3.629636e+05</td>\n",
       "      <td>2.768241e+07</td>\n",
       "      <td>219707</td>\n",
       "    </tr>\n",
       "    <tr>\n",
       "      <th>1401</th>\n",
       "      <td>4.647362e+05</td>\n",
       "      <td>4.581615e+05</td>\n",
       "      <td>1.677722e+07</td>\n",
       "      <td>17792</td>\n",
       "    </tr>\n",
       "    <tr>\n",
       "      <th>1411</th>\n",
       "      <td>4.466440e+05</td>\n",
       "      <td>4.469400e+04</td>\n",
       "      <td>1.677722e+07</td>\n",
       "      <td>17792</td>\n",
       "    </tr>\n",
       "    <tr>\n",
       "      <th>1415</th>\n",
       "      <td>2.415740e+05</td>\n",
       "      <td>2.448909e+05</td>\n",
       "      <td>1.677722e+07</td>\n",
       "      <td>17792</td>\n",
       "    </tr>\n",
       "  </tbody>\n",
       "</table>\n",
       "</div>"
      ],
      "text/plain": [
       "             run time      cpu used   memory used    count\n",
       "user id                                                   \n",
       "100      3.187791e+05  2.942063e+05  2.097152e+06     2091\n",
       "291      5.071584e+05  1.027000e+05  4.194304e+06    10493\n",
       "648      1.024945e+06  1.685586e+06  2.097152e+06    47404\n",
       "676      3.490110e+05  1.049758e+05  1.677722e+07     5666\n",
       "936      6.828710e+05  4.118980e+05  1.342177e+08  2148005\n",
       "981      4.863820e+05  4.905555e+05  1.677722e+07    58550\n",
       "985      2.674299e+05  2.618954e+05  2.414902e+06    58550\n",
       "1004     7.544450e+05  2.313400e+04  4.194304e+06    58550\n",
       "1059     1.928364e+05  2.764582e+05  6.710886e+07  2148005\n",
       "1181     3.189590e+05  2.706388e+05  1.677722e+07   219707\n",
       "1234     6.143622e+05  5.791346e+05  3.250586e+06   219707\n",
       "1308     1.662398e+05  3.629636e+05  2.768241e+07   219707\n",
       "1401     4.647362e+05  4.581615e+05  1.677722e+07    17792\n",
       "1411     4.466440e+05  4.469400e+04  1.677722e+07    17792\n",
       "1415     2.415740e+05  2.448909e+05  1.677722e+07    17792"
      ]
     },
     "execution_count": 23,
     "metadata": {},
     "output_type": "execute_result"
    }
   ],
   "source": [
    "grouped[labels == 1]"
   ]
  },
  {
   "cell_type": "code",
   "execution_count": 24,
   "id": "dd7210fe",
   "metadata": {},
   "outputs": [
    {
     "data": {
      "text/html": [
       "<div>\n",
       "<style scoped>\n",
       "    .dataframe tbody tr th:only-of-type {\n",
       "        vertical-align: middle;\n",
       "    }\n",
       "\n",
       "    .dataframe tbody tr th {\n",
       "        vertical-align: top;\n",
       "    }\n",
       "\n",
       "    .dataframe thead th {\n",
       "        text-align: right;\n",
       "    }\n",
       "</style>\n",
       "<table border=\"1\" class=\"dataframe\">\n",
       "  <thead>\n",
       "    <tr style=\"text-align: right;\">\n",
       "      <th></th>\n",
       "      <th>run time</th>\n",
       "      <th>cpu used</th>\n",
       "      <th>memory used</th>\n",
       "      <th>count</th>\n",
       "    </tr>\n",
       "    <tr>\n",
       "      <th>user id</th>\n",
       "      <th></th>\n",
       "      <th></th>\n",
       "      <th></th>\n",
       "      <th></th>\n",
       "    </tr>\n",
       "  </thead>\n",
       "  <tbody>\n",
       "    <tr>\n",
       "      <th>221</th>\n",
       "      <td>9495.132530</td>\n",
       "      <td>10793.457831</td>\n",
       "      <td>1.677722e+07</td>\n",
       "      <td>2148005</td>\n",
       "    </tr>\n",
       "    <tr>\n",
       "      <th>222</th>\n",
       "      <td>17352.763034</td>\n",
       "      <td>18873.265987</td>\n",
       "      <td>9.404144e+06</td>\n",
       "      <td>2148005</td>\n",
       "    </tr>\n",
       "    <tr>\n",
       "      <th>223</th>\n",
       "      <td>25222.101695</td>\n",
       "      <td>24271.197740</td>\n",
       "      <td>1.048576e+07</td>\n",
       "      <td>2148005</td>\n",
       "    </tr>\n",
       "    <tr>\n",
       "      <th>224</th>\n",
       "      <td>2501.906888</td>\n",
       "      <td>2411.430356</td>\n",
       "      <td>4.918931e+06</td>\n",
       "      <td>2148005</td>\n",
       "    </tr>\n",
       "    <tr>\n",
       "      <th>225</th>\n",
       "      <td>168.285714</td>\n",
       "      <td>159.571429</td>\n",
       "      <td>8.388608e+06</td>\n",
       "      <td>2148005</td>\n",
       "    </tr>\n",
       "    <tr>\n",
       "      <th>...</th>\n",
       "      <td>...</td>\n",
       "      <td>...</td>\n",
       "      <td>...</td>\n",
       "      <td>...</td>\n",
       "    </tr>\n",
       "    <tr>\n",
       "      <th>1597</th>\n",
       "      <td>891.800000</td>\n",
       "      <td>543.200000</td>\n",
       "      <td>4.194304e+06</td>\n",
       "      <td>2148005</td>\n",
       "    </tr>\n",
       "    <tr>\n",
       "      <th>1599</th>\n",
       "      <td>220.309558</td>\n",
       "      <td>190.519258</td>\n",
       "      <td>9.175414e+06</td>\n",
       "      <td>2115199</td>\n",
       "    </tr>\n",
       "    <tr>\n",
       "      <th>1607</th>\n",
       "      <td>221.285714</td>\n",
       "      <td>203.571429</td>\n",
       "      <td>2.097152e+06</td>\n",
       "      <td>2148005</td>\n",
       "    </tr>\n",
       "    <tr>\n",
       "      <th>1610</th>\n",
       "      <td>689.571429</td>\n",
       "      <td>475.500000</td>\n",
       "      <td>4.194304e+06</td>\n",
       "      <td>2148005</td>\n",
       "    </tr>\n",
       "    <tr>\n",
       "      <th>1611</th>\n",
       "      <td>86.500000</td>\n",
       "      <td>81.000000</td>\n",
       "      <td>1.258291e+07</td>\n",
       "      <td>2148005</td>\n",
       "    </tr>\n",
       "  </tbody>\n",
       "</table>\n",
       "<p>158 rows × 4 columns</p>\n",
       "</div>"
      ],
      "text/plain": [
       "             run time      cpu used   memory used    count\n",
       "user id                                                   \n",
       "221       9495.132530  10793.457831  1.677722e+07  2148005\n",
       "222      17352.763034  18873.265987  9.404144e+06  2148005\n",
       "223      25222.101695  24271.197740  1.048576e+07  2148005\n",
       "224       2501.906888   2411.430356  4.918931e+06  2148005\n",
       "225        168.285714    159.571429  8.388608e+06  2148005\n",
       "...               ...           ...           ...      ...\n",
       "1597       891.800000    543.200000  4.194304e+06  2148005\n",
       "1599       220.309558    190.519258  9.175414e+06  2115199\n",
       "1607       221.285714    203.571429  2.097152e+06  2148005\n",
       "1610       689.571429    475.500000  4.194304e+06  2148005\n",
       "1611        86.500000     81.000000  1.258291e+07  2148005\n",
       "\n",
       "[158 rows x 4 columns]"
      ]
     },
     "execution_count": 24,
     "metadata": {},
     "output_type": "execute_result"
    }
   ],
   "source": [
    "grouped[labels == 2]"
   ]
  }
 ],
 "metadata": {
  "kernelspec": {
   "display_name": "Python 3 (ipykernel)",
   "language": "python",
   "name": "python3"
  },
  "language_info": {
   "codemirror_mode": {
    "name": "ipython",
    "version": 3
   },
   "file_extension": ".py",
   "mimetype": "text/x-python",
   "name": "python",
   "nbconvert_exporter": "python",
   "pygments_lexer": "ipython3",
   "version": "3.10.2"
  }
 },
 "nbformat": 4,
 "nbformat_minor": 5
}
